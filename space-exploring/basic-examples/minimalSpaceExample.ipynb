{
 "cells": [
  {
   "cell_type": "markdown",
   "metadata": {},
   "source": [
    "# random change in erodibility by fire"
   ]
  },
  {
   "cell_type": "code",
   "execution_count": 18,
   "metadata": {
    "scrolled": true
   },
   "outputs": [
    {
     "data": {
      "image/png": "[encoded data removed]",
      "text/plain": [
       "<Figure size 432x288 with 2 Axes>"
      ]
     },
     "metadata": {
      "needs_background": "light"
     },
     "output_type": "display_data"
    },
    {
     "data": {
      "image/png": "[encoded data removed]",
      "text/plain": [
       "<Figure size 432x288 with 2 Axes>"
      ]
     },
     "metadata": {
      "needs_background": "light"
     },
     "output_type": "display_data"
    },
    {
     "name": "stdout",
     "output_type": "stream",
     "text": [
      "-- 0 years -- 0.1 seconds --\n",
      "fire at (2000.0,2400.0) with 21 nodes inflamed\n",
      "fire at (1000.0,1000.0) with 5 nodes inflamed\n",
      "fire at (500.0,200.0) with 5 nodes inflamed\n",
      "fire at (900.0,400.0) with 5 nodes inflamed\n",
      "-- 1000 years -- 2.5 seconds --\n",
      "fire at (700.0,100.0) with 61 nodes inflamed\n",
      "fire at (1300.0,400.0) with 129 nodes inflamed\n",
      "fire at (200.0,2700.0) with 1 nodes inflamed\n",
      "fire at (1500.0,700.0) with 1 nodes inflamed\n",
      "fire at (400.0,0.0) with 67 nodes inflamed\n",
      "fire at (500.0,1800.0) with 1 nodes inflamed\n",
      "fire at (800.0,2600.0) with 1 nodes inflamed\n",
      "-- 2000 years -- 4.7 seconds --\n",
      "fire at (1800.0,1800.0) with 1 nodes inflamed\n",
      "fire at (700.0,1100.0) with 285 nodes inflamed\n"
     ]
    },
    {
     "ename": "KeyboardInterrupt",
     "evalue": "",
     "output_type": "error",
     "traceback": [
      "\u001b[0;31m---------------------------------------------------------------------------\u001b[0m",
      "\u001b[0;31mKeyboardInterrupt\u001b[0m                         Traceback (most recent call last)",
      "\u001b[0;32m<ipython-input-18-35aba35056e3>\u001b[0m in \u001b[0;36m<module>\u001b[0;34m\u001b[0m\n\u001b[1;32m    108\u001b[0m     \u001b[0mfr\u001b[0m\u001b[0;34m.\u001b[0m\u001b[0mrun_one_step\u001b[0m\u001b[0;34m(\u001b[0m\u001b[0;34m)\u001b[0m \u001b[0;31m# accumulate the flow\u001b[0m\u001b[0;34m\u001b[0m\u001b[0;34m\u001b[0m\u001b[0m\n\u001b[1;32m    109\u001b[0m     \u001b[0mdf\u001b[0m\u001b[0;34m.\u001b[0m\u001b[0mmap_depressions\u001b[0m\u001b[0;34m(\u001b[0m\u001b[0;34m)\u001b[0m \u001b[0;31m# find landscape depressions (which do not erode)\u001b[0m\u001b[0;34m\u001b[0m\u001b[0;34m\u001b[0m\u001b[0m\n\u001b[0;32m--> 110\u001b[0;31m     \u001b[0mha\u001b[0m\u001b[0;34m.\u001b[0m\u001b[0mrun_one_step\u001b[0m\u001b[0;34m(\u001b[0m\u001b[0mdt\u001b[0m\u001b[0;34m=\u001b[0m\u001b[0mdt\u001b[0m\u001b[0;34m)\u001b[0m \u001b[0;31m# step the transport model\u001b[0m\u001b[0;34m\u001b[0m\u001b[0;34m\u001b[0m\u001b[0m\n\u001b[0m\u001b[1;32m    111\u001b[0m     \u001b[0mes\u001b[0m\u001b[0;34m.\u001b[0m\u001b[0mstepper\u001b[0m\u001b[0;34m(\u001b[0m\u001b[0mha\u001b[0m\u001b[0;34m,\u001b[0m\u001b[0mdt\u001b[0m\u001b[0;34m=\u001b[0m\u001b[0mdt\u001b[0m\u001b[0;34m)\u001b[0m \u001b[0;31m# decay the erodibility back to baseline from the former timestep\u001b[0m\u001b[0;34m\u001b[0m\u001b[0;34m\u001b[0m\u001b[0m\n\u001b[1;32m    112\u001b[0m     \u001b[0mburner\u001b[0m\u001b[0;34m.\u001b[0m\u001b[0mfire\u001b[0m\u001b[0;34m(\u001b[0m\u001b[0mha\u001b[0m\u001b[0;34m,\u001b[0m\u001b[0mmg\u001b[0m\u001b[0;34m)\u001b[0m \u001b[0;31m# light any fires (increase erodibility)\u001b[0m\u001b[0;34m\u001b[0m\u001b[0;34m\u001b[0m\u001b[0m\n",
      "\u001b[0;32m~/anaconda/envs/espin/lib/python3.9/site-packages/landlab/components/space/space.py\u001b[0m in \u001b[0;36mrun_one_step_basic\u001b[0;34m(self, dt)\u001b[0m\n\u001b[1;32m    589\u001b[0m             )\n\u001b[1;32m    590\u001b[0m \u001b[0;34m\u001b[0m\u001b[0m\n\u001b[0;32m--> 591\u001b[0;31m             \u001b[0mdR\u001b[0m\u001b[0;34m[\u001b[0m\u001b[0midx\u001b[0m\u001b[0;34m]\u001b[0m \u001b[0;34m=\u001b[0m \u001b[0mquad\u001b[0m\u001b[0;34m(\u001b[0m\u001b[0m_dRdt\u001b[0m\u001b[0;34m,\u001b[0m \u001b[0;36m0\u001b[0m\u001b[0;34m,\u001b[0m \u001b[0mdt\u001b[0m\u001b[0;34m,\u001b[0m \u001b[0margs\u001b[0m\u001b[0;34m)\u001b[0m\u001b[0;34m[\u001b[0m\u001b[0;36m0\u001b[0m\u001b[0;34m]\u001b[0m\u001b[0;34m\u001b[0m\u001b[0;34m\u001b[0m\u001b[0m\n\u001b[0m\u001b[1;32m    592\u001b[0m \u001b[0;34m\u001b[0m\u001b[0m\n\u001b[1;32m    593\u001b[0m         \u001b[0mself\u001b[0m\u001b[0;34m.\u001b[0m\u001b[0m_bedrock__elevation\u001b[0m \u001b[0;34m+=\u001b[0m \u001b[0mdR\u001b[0m\u001b[0;34m\u001b[0m\u001b[0;34m\u001b[0m\u001b[0m\n",
      "\u001b[0;32m~/anaconda/envs/espin/lib/python3.9/site-packages/scipy/integrate/quadpack.py\u001b[0m in \u001b[0;36mquad\u001b[0;34m(func, a, b, args, full_output, epsabs, epsrel, limit, points, weight, wvar, wopts, maxp1, limlst)\u001b[0m\n\u001b[1;32m    349\u001b[0m \u001b[0;34m\u001b[0m\u001b[0m\n\u001b[1;32m    350\u001b[0m     \u001b[0;32mif\u001b[0m \u001b[0mweight\u001b[0m \u001b[0;32mis\u001b[0m \u001b[0;32mNone\u001b[0m\u001b[0;34m:\u001b[0m\u001b[0;34m\u001b[0m\u001b[0;34m\u001b[0m\u001b[0m\n\u001b[0;32m--> 351\u001b[0;31m         retval = _quad(func, a, b, args, full_output, epsabs, epsrel, limit,\n\u001b[0m\u001b[1;32m    352\u001b[0m                        points)\n\u001b[1;32m    353\u001b[0m     \u001b[0;32melse\u001b[0m\u001b[0;34m:\u001b[0m\u001b[0;34m\u001b[0m\u001b[0;34m\u001b[0m\u001b[0m\n",
      "\u001b[0;32m~/anaconda/envs/espin/lib/python3.9/site-packages/scipy/integrate/quadpack.py\u001b[0m in \u001b[0;36m_quad\u001b[0;34m(func, a, b, args, full_output, epsabs, epsrel, limit, points)\u001b[0m\n\u001b[1;32m    461\u001b[0m     \u001b[0;32mif\u001b[0m \u001b[0mpoints\u001b[0m \u001b[0;32mis\u001b[0m \u001b[0;32mNone\u001b[0m\u001b[0;34m:\u001b[0m\u001b[0;34m\u001b[0m\u001b[0;34m\u001b[0m\u001b[0m\n\u001b[1;32m    462\u001b[0m         \u001b[0;32mif\u001b[0m \u001b[0minfbounds\u001b[0m \u001b[0;34m==\u001b[0m \u001b[0;36m0\u001b[0m\u001b[0;34m:\u001b[0m\u001b[0;34m\u001b[0m\u001b[0;34m\u001b[0m\u001b[0m\n\u001b[0;32m--> 463\u001b[0;31m             \u001b[0;32mreturn\u001b[0m \u001b[0m_quadpack\u001b[0m\u001b[0;34m.\u001b[0m\u001b[0m_qagse\u001b[0m\u001b[0;34m(\u001b[0m\u001b[0mfunc\u001b[0m\u001b[0;34m,\u001b[0m\u001b[0ma\u001b[0m\u001b[0;34m,\u001b[0m\u001b[0mb\u001b[0m\u001b[0;34m,\u001b[0m\u001b[0margs\u001b[0m\u001b[0;34m,\u001b[0m\u001b[0mfull_output\u001b[0m\u001b[0;34m,\u001b[0m\u001b[0mepsabs\u001b[0m\u001b[0;34m,\u001b[0m\u001b[0mepsrel\u001b[0m\u001b[0;34m,\u001b[0m\u001b[0mlimit\u001b[0m\u001b[0;34m)\u001b[0m\u001b[0;34m\u001b[0m\u001b[0;34m\u001b[0m\u001b[0m\n\u001b[0m\u001b[1;32m    464\u001b[0m         \u001b[0;32melse\u001b[0m\u001b[0;34m:\u001b[0m\u001b[0;34m\u001b[0m\u001b[0;34m\u001b[0m\u001b[0m\n\u001b[1;32m    465\u001b[0m             \u001b[0;32mreturn\u001b[0m \u001b[0m_quadpack\u001b[0m\u001b[0;34m.\u001b[0m\u001b[0m_qagie\u001b[0m\u001b[0;34m(\u001b[0m\u001b[0mfunc\u001b[0m\u001b[0;34m,\u001b[0m\u001b[0mbound\u001b[0m\u001b[0;34m,\u001b[0m\u001b[0minfbounds\u001b[0m\u001b[0;34m,\u001b[0m\u001b[0margs\u001b[0m\u001b[0;34m,\u001b[0m\u001b[0mfull_output\u001b[0m\u001b[0;34m,\u001b[0m\u001b[0mepsabs\u001b[0m\u001b[0;34m,\u001b[0m\u001b[0mepsrel\u001b[0m\u001b[0;34m,\u001b[0m\u001b[0mlimit\u001b[0m\u001b[0;34m)\u001b[0m\u001b[0;34m\u001b[0m\u001b[0;34m\u001b[0m\u001b[0m\n",
      "\u001b[0;32m~/anaconda/envs/espin/lib/python3.9/site-packages/landlab/components/space/space.py\u001b[0m in \u001b[0;36m_dRdt\u001b[0;34m(t, a, b, c, d, H0)\u001b[0m\n\u001b[1;32m    761\u001b[0m \u001b[0;34m\u001b[0m\u001b[0m\n\u001b[1;32m    762\u001b[0m     \u001b[0;31m# calculate dRdt\u001b[0m\u001b[0;34m\u001b[0m\u001b[0;34m\u001b[0m\u001b[0;34m\u001b[0m\u001b[0m\n\u001b[0;32m--> 763\u001b[0;31m     \u001b[0mdRdt\u001b[0m \u001b[0;34m=\u001b[0m \u001b[0;34m-\u001b[0m\u001b[0ma\u001b[0m \u001b[0;34m*\u001b[0m \u001b[0mnp\u001b[0m\u001b[0;34m.\u001b[0m\u001b[0mexp\u001b[0m\u001b[0;34m(\u001b[0m\u001b[0;34m-\u001b[0m\u001b[0mb\u001b[0m \u001b[0;34m*\u001b[0m \u001b[0mH\u001b[0m\u001b[0;34m)\u001b[0m\u001b[0;34m\u001b[0m\u001b[0;34m\u001b[0m\u001b[0m\n\u001b[0m\u001b[1;32m    764\u001b[0m     \u001b[0;32mreturn\u001b[0m \u001b[0mdRdt\u001b[0m\u001b[0;34m\u001b[0m\u001b[0;34m\u001b[0m\u001b[0m\n",
      "\u001b[0;31mKeyboardInterrupt\u001b[0m: "
     ]
    }
   ],
   "source": [
    "import numpy as np\n",
    "from firemodel import *\n",
    "import matplotlib.pyplot as plt \n",
    "from landlab.components import (DepressionFinderAndRouter,\n",
    "                                FastscapeEroder,\n",
    "                                FlowAccumulator,\n",
    "                                Space,\n",
    "                                ChannelProfiler # this makes plots\n",
    "                               )\n",
    "from landlab.io.netcdf import (write_netcdf, load_netcdf)\n",
    "from landlab import (RasterModelGrid,\n",
    "                     imshow_grid)\n",
    "%matplotlib inline\n",
    "import time\n",
    "\n",
    "save=True # save or not? \n",
    "save_dir = './simul/' # the place to save the output\n",
    "dt = 50 # timestep in years\n",
    "runtime = 10000 # length of the simulation in years\n",
    "dx = 100 # size of a cell in ...m ? \n",
    "#np.random.seed(5000) # reproducible yet random\n",
    "\n",
    "# 5x5 grid with baselevel in lower left corner\n",
    "# all other boundary nodes closed\n",
    "# init topography is plane tilted up to the upper right with noise\n",
    "\n",
    "grid_dim = (30,30)\n",
    "#grid_dim = (10,10)\n",
    "mg = RasterModelGrid(grid_dim, xy_spacing=dx) # 3km x 3km \n",
    "_ = mg.add_zeros('topographic__elevation', at='node')\n",
    "mg.at_node['topographic__elevation'] += (mg.node_y / 10000. + \n",
    "                                         mg.node_x / 10000. + np.random.rand(len(mg.node_y)) / 10.) # sloped up\n",
    "mg.set_closed_boundaries_at_grid_edges(bottom_is_closed=True,\n",
    "                                        left_is_closed=True,\n",
    "                                        right_is_closed=True,\n",
    "                                        top_is_closed=True)\n",
    "mg.set_watershed_boundary_condition_outlet_id(\n",
    "     0, mg.at_node['topographic__elevation'], -9999.)\n",
    "\n",
    "# show the pre-burn-in grid\n",
    "mg.imshow('node','topographic__elevation')\n",
    "plt.title('grid before burn-in')\n",
    "plt.show()\n",
    "\n",
    "#Instantiate Fastscape eroder, flow router, and depression finder\n",
    "fr = FlowAccumulator(mg, flow_director='D8')\n",
    "df = DepressionFinderAndRouter(mg)\n",
    "fsc = FastscapeEroder(\n",
    "    mg,\n",
    "    K_sp=.001,\n",
    "    m_sp=.5,\n",
    "    n_sp=1)\n",
    "\n",
    "# burn in an initial drainage ntework using the fastscape eroder\n",
    "for it in range(100):\n",
    "    fr.run_one_step()\n",
    "    df.map_depressions()\n",
    "    fsc.run_one_step(dt=dt)\n",
    "    mg.at_node['topographic__elevation'][0] -= 0.003 # Uplift\n",
    "    \n",
    "    \n",
    "# add soil to the drainage network\n",
    "_ = mg.add_zeros('soil__depth', at='node', dtype=float) \n",
    "mg.at_node['soil__depth'] += 0.5\n",
    "mg.at_node['topographic__elevation'] += mg.at_node['soil__depth']\n",
    "\n",
    "\n",
    "# plot after burn-in grid\n",
    "mg.imshow('node','topographic__elevation')\n",
    "plt.title('grid after burn-in')\n",
    "plt.show()\n",
    "\n",
    "\n",
    "# init the space component\n",
    "K_sed0 = 0.00001 # the baseline soil erodiblity\n",
    "K_sed = np.ones(mg.shape)*K_sed0 # the initial soil erodibility per node\n",
    "ha = Space(\n",
    "    mg,\n",
    "    K_sed=K_sed,\n",
    "    K_br=1e-10,\n",
    "    F_f=0.5,\n",
    "    phi=0.1,\n",
    "    H_star=1.,\n",
    "    v_s=0.001,\n",
    "    m_sp=0.5,\n",
    "    n_sp = 1.0,\n",
    "    sp_crit_sed=0,\n",
    "    sp_crit_br=0)\n",
    "\n",
    "\n",
    "# init the erodibility stepper\n",
    "decay_time = 15*dt # time it takes the erodibility perturbution to decay\n",
    "es = ErodibilityStepper(decay_time=decay_time, K_sed0=K_sed0)\n",
    "# this leads to decay in the erodibility from whatever value it's at.\n",
    "\n",
    "# init the burner\n",
    "R_fire_mean = grid_dim[0]/10*dx\n",
    "fire_freq = 1/(runtime/50)\n",
    "burner = Burner(fire_freq=fire_freq,\n",
    "                R_fire_mean=R_fire_mean,\n",
    "                K_sed_boost=5*K_sed0,\n",
    "                dt=dt)\n",
    "# this produces fires whick kick up the erodibility...\n",
    "\n",
    "\n",
    "start_time = time.time()\n",
    "for it in range(runtime//dt):\n",
    "    fr.run_one_step() # accumulate the flow\n",
    "    df.map_depressions() # find landscape depressions (which do not erode)\n",
    "    ha.run_one_step(dt=dt) # step the transport model\n",
    "    es.stepper(ha,dt=dt) # decay the erodibility back to baseline from the former timestep\n",
    "    burner.fire(ha,mg) # light any fires (increase erodibility)\n",
    "    mg.at_node['bedrock__elevation'][0] -= 2e-6*dt # add in the uplift\n",
    "    if it*dt % 1000 == 0:\n",
    "        print(\"--\", it*dt, \"years -- %s seconds --\" % round((time.time() - start_time), 1))\n",
    "    \n",
    "    if (it*dt % 100 == 0) & save: # save every 100 years\n",
    "        filename = save_dir + 'simul_%05d.nc'%it\n",
    "        #mg.(filename, names='topographic__elevation')\n",
    "        write_netcdf(filename, mg, format=\"NETCDF3_64BIT\", names=\"topographic__elevation\")\n",
    "        \n",
    "\n",
    "        \n",
    "# plot after iteration grid\n",
    "mg.imshow('node','topographic__elevation')\n",
    "plt.title('grid after timesteppin')\n",
    "plt.show()\n",
    "\n",
    "#Show sediment flux map\n",
    "fig = plt.figure()\n",
    "plot = plt.subplot()\n",
    "imshow_grid(mg, 'sediment__flux', plot_name='Sediment flux', var_name = 'Sediment flux', var_units=r'm$^3$/yr', grid_units=('m', 'm'), cmap='Blues')\n",
    "plt.show()\n",
    "\n",
    "\n",
    "\n",
    "# slope-area plot\n",
    "area = mg.at_node['drainage_area'][mg.core_nodes]\n",
    "slope = mg.at_node['topographic__steepest_slope'][mg.core_nodes]\n",
    "\n",
    "fig = plt.figure()\n",
    "slope_area_plot = plt.subplot()\n",
    "slope_area_plot.set_xscale('log')\n",
    "slope_area_plot.set_yscale('log')\n",
    "plt.scatter(area, slope)\n",
    "plt.show()\n"
   ]
  },
  {
   "cell_type": "code",
   "execution_count": null,
   "metadata": {},
   "outputs": [],
   "source": [
    "np.save('network',nmg,allow_pickle=True)"
   ]
  },
  {
   "cell_type": "code",
   "execution_count": null,
   "metadata": {},
   "outputs": [],
   "source": [
    "mg.save('exampleNetwork.asc', names=['topographic__elevation'])"
   ]
  },
  {
   "cell_type": "code",
   "execution_count": null,
   "metadata": {
    "scrolled": true
   },
   "outputs": [],
   "source": [
    "np.load('network.npy',allow_pickle=True)"
   ]
  },
  {
   "cell_type": "code",
   "execution_count": null,
   "metadata": {},
   "outputs": [],
   "source": [
    "from create_network import create_network_from_raster\n",
    "nmg = create_network_from_raster(\n",
    "    mg,\n",
    "    method='variable', # method\n",
    "    n_widths=dx,\n",
    "    #node_spacing=30,\n",
    "    #d_node_spacing=2*dx,\n",
    "    min_channel_thresh=30000,\n",
    "    fields=['drainage_area', 'topographic__elevation'])\n",
    "\n",
    "from landlab.plot import graph\n",
    "\n",
    "## Plot nodes\n",
    "plt.figure(figsize=(18,5))\n",
    "plt.subplot(1,2,1)\n",
    "graph.plot_nodes(nmg)\n",
    "plt.title(\"Nodes\")\n",
    "\n",
    "## Plot nodes + links\n",
    "plt.subplot(1,2,2)\n",
    "graph.plot_nodes(nmg,with_id=False,markersize=4)\n",
    "graph.plot_links(nmg)\n",
    "plt.title(\"Links\")\n",
    "plt.show()"
   ]
  },
  {
   "cell_type": "markdown",
   "metadata": {},
   "source": [
    "# visualization learning . "
   ]
  },
  {
   "cell_type": "code",
   "execution_count": null,
   "metadata": {},
   "outputs": [],
   "source": [
    "mg.imshow('node','topographic__elevation')\n",
    "#graph.plot_nodes(nmg,,markersize=4)\n",
    "graph.plot_links(nmg,with_id=False)\n",
    "fig = plt.gcf()\n",
    "fig.set_size_inches(14, 10)"
   ]
  },
  {
   "cell_type": "code",
   "execution_count": null,
   "metadata": {
    "scrolled": true
   },
   "outputs": [],
   "source": [
    "np.save('test_grid_forVis',(K_sed,K_sed0))"
   ]
  },
  {
   "cell_type": "code",
   "execution_count": null,
   "metadata": {},
   "outputs": [],
   "source": [
    "zb"
   ]
  },
  {
   "cell_type": "code",
   "execution_count": null,
   "metadata": {},
   "outputs": [],
   "source": [
    "z.shape"
   ]
  },
  {
   "cell_type": "code",
   "execution_count": null,
   "metadata": {},
   "outputs": [],
   "source": [
    "zb.shape"
   ]
  },
  {
   "cell_type": "code",
   "execution_count": null,
   "metadata": {},
   "outputs": [],
   "source": [
    "mask.shape"
   ]
  },
  {
   "cell_type": "code",
   "execution_count": null,
   "metadata": {
    "scrolled": true
   },
   "outputs": [],
   "source": [
    "\n",
    "\n",
    "# plot the links\n",
    "graph.plot_links(nmg, with_id=False)\n",
    "\n",
    "\n",
    "## plot the un-burned areas\n",
    "z = mg.at_node['topographic__elevation']\n",
    "zb = (K_sed - K_sed0).flatten() # burned.. \n",
    "#nb = np.zeros_like(z) # not burned\n",
    "tol = K_sed0/2\n",
    "mask = (K_sed > tol).flatten()\n",
    "\n",
    "zb[~mask]=np.nan\n",
    "#zb[mask]=z[mask]\n",
    "\n",
    "#zb[mask]=np.nan\n",
    "#znb[~mask]=z[~mask]\n",
    "\n",
    "zb = zb.reshape(grid_dim)\n",
    "#znb = znb.reshape(grid_dim)\n",
    "\n",
    "\n",
    "#def edge_mask(x):\n",
    "#    mask = np.ones(x.shape, dtype=bool)\n",
    "#    mask[x.ndim * (slice(1, -1),)] = False\n",
    "#    return mask\n",
    "#\n",
    "#emask = edge_mask(mask.reshape(grid_dim))\n",
    "#zb[emask] = np.nan\n",
    "#znb[emask] = np.nan\n",
    "\n",
    "x = np.arange(0,grid_dim[0]*dx,dx)\n",
    "y = np.arange(0,grid_dim[0]*dx,dx)\n",
    "xm,ym = np.meshgrid(x,y) \n",
    "\n",
    "z = z.reshape(grid_dim)\n",
    "\n",
    "plt.pcolormesh(xm,ym,z,alpha=1,cmap='pink')\n",
    "plt.pcolormesh(xm,ym,zb,alpha=0.3,cmap='Greys',zorder=1,)\n"
   ]
  },
  {
   "cell_type": "code",
   "execution_count": null,
   "metadata": {},
   "outputs": [],
   "source": [
    "z.flatten()"
   ]
  },
  {
   "cell_type": "code",
   "execution_count": null,
   "metadata": {
    "scrolled": true
   },
   "outputs": [],
   "source": [
    "plt.pcolormesh(x,y,z)"
   ]
  },
  {
   "cell_type": "code",
   "execution_count": null,
   "metadata": {},
   "outputs": [],
   "source": [
    "graph.plot_links(nmg,with_id=False)\n",
    "#mg.imshow('node','topographic__elevation')\n",
    "#plt.imshow(mask*100,cmap='Greys',alpha=0.9)\n",
    "\n",
    "\n",
    "## plot the un-burned areas\n",
    "xnode = mg.x_of_node\n",
    "ynode = mg.y_of_node\n",
    "z = mg.at_node['topographic__elevation']\n",
    "xnodem,ynodem = np.meshgrid(xnode,y) \n",
    "\n",
    "\n",
    "\n",
    "# this plots the burned areas with a grey colormap\n",
    "x = np.arange(0,grid_dim[0]*dx,dx)\n",
    "y = np.arange(0,grid_dim[0]*dx,dx)\n",
    "xm,ym = np.meshgrid(x,y) \n",
    "plt.pcolormesh(xm,ym,mask,alpha=0.2,cmap='Greys')\n",
    "\n",
    "fig = plt.gcf()\n",
    "fig.set_size_inches(14, 10)"
   ]
  },
  {
   "cell_type": "code",
   "execution_count": null,
   "metadata": {},
   "outputs": [],
   "source": []
  }
 ],
 "metadata": {
  "kernelspec": {
   "display_name": "Python 3",
   "language": "python",
   "name": "python3"
  },
  "language_info": {
   "codemirror_mode": {
    "name": "ipython",
    "version": 3
   },
   "file_extension": ".py",
   "mimetype": "text/x-python",
   "name": "python",
   "nbconvert_exporter": "python",
   "pygments_lexer": "ipython3",
   "version": "3.9.4"
  }
 },
 "nbformat": 4,
 "nbformat_minor": 2
}
