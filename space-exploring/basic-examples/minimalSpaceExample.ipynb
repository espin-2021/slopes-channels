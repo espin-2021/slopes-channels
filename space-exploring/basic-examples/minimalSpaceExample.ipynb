{
 "cells": [
  {
   "cell_type": "markdown",
   "metadata": {},
   "source": [
    "# random change in erodibility by fire"
   ]
  },
  {
   "cell_type": "code",
   "execution_count": 75,
   "metadata": {
    "scrolled": false
   },
   "outputs": [],
   "source": [
    "# here are the new functionalities to implement randomly burned areas....\n",
    "\n",
    "class ErodibilityStepper:\n",
    "    \"\"\"\n",
    "    This class is initialized by a decay_constant, describing the rate at which\n",
    "    the erodibility of burned areas recovers, and a baseline erodibility value Ksed0.\n",
    "    \"\"\"\n",
    "    def __init__(self, decay_time=1, K_sed0=1):\n",
    "        self.decay_time = decay_time\n",
    "        self.K_sed0 = K_sed0\n",
    "        \n",
    "    def stepper(self, space, dt):\n",
    "        \"\"\"\n",
    "        This method takes in  a space object \"space\",\n",
    "        an equilibrium (in the absence of burning) erodibility Ksed0,\n",
    "        and a timestep \"space_dt\" to modify the erodibility\n",
    "        of `space` on each gridcell by one timestep by the equation\n",
    "        dK/dt = -decay_const*(Ksed-Ksed0). \n",
    "        Describing a decay of the erodibility toward its equilibrium\n",
    "        value Ksed_0\n",
    "        \"\"\"\n",
    "        # solve the DE with simple Euler method\n",
    "        dK_sed =  -(space.K_sed-K_sed0)*dt/self.decay_time # erodibility decay in time\n",
    "        space.K_sed += dK_sed # modify the erodibility in place\n",
    "        \n",
    "class Burner:\n",
    "    \"\"\"\n",
    "    This is initialized by a fire frequency, mean fire radius in units of the grid size,\n",
    "    and the amount K_sed_boost by which the sediment erodibility is increased by fire.\n",
    "    The method `fire` modifies (in place) the erodibility of nodes where the fire occurred.\n",
    "    \"\"\"\n",
    "    def __init__(self, fire_freq=1, R_fire=1, K_sed_boost=1, dt = 1):\n",
    "        \"\"\"\n",
    "        fire frequency -- how often fires occur [1/T]\n",
    "        fire radius -- typical size of fires [L]\n",
    "        K_sed_boost -- amount by which K_sed is increased by fire\n",
    "        dt -- space model timestep.\n",
    "        \"\"\"\n",
    "        self.fire_freq = fire_freq # average number of fires per unit time\n",
    "        self.R_fire = R_fire # the radius of the fire... \n",
    "        self.K_sed_boost = K_sed_boost # the amount by which the sediment erodibility is increased by fire\n",
    "        self.dt = dt # the timestep on which to evaluate the probability that a fire occurs\n",
    "        \n",
    "    def fire(self, space, grid):\n",
    "        \"\"\"\n",
    "        Generates a fire at a random location within the grid.\n",
    "        First calculates whether or not a fire occurs at the timestep.\n",
    "        Then \n",
    "        \"\"\"\n",
    "        # fire occurs if..\n",
    "        #    a random exceeds the probability that fire does not occur\n",
    "        occurs = np.exp(-self.dt*self.fire_freq) < np.random.random() # prob fire does not occur < random \n",
    "        if not occurs: # if fire does not occur...\n",
    "            pass # do nothing. This comes first as it's the most common scenario.\n",
    "        else: # if fire does occur\n",
    "            K_sed = space.K_sed # get the array of sediment erodibilities before the fire\n",
    "            # find the coordinates of this erodibility array which are to be changed\n",
    "            center = np.random.choice(K_sed.size) # select a random node for the fire center\n",
    "            # locate all nodes within R_fire of the center node.\n",
    "            changed_nodes = self._within(center, self.R_fire, space, grid) # based on Laurent's code.\n",
    "            # modify those nodes only.. they should increase erodibility !\n",
    "            K_sed[changed_nodes]+= self.K_sed_boost # increase them by K_sed_boost\n",
    "            # set these into the space object as the new erodibility\n",
    "            space.K_sed = K_sed # modify in place. Erodibility is now boosted by the fire.\n",
    "            # This occurs on all cells within proximity R_fire of the fire center\n",
    "        \n",
    "    def _within(self,center, R_fire, space, grid):\n",
    "        \"\"\"\n",
    "        return all nodes within distance R_fire of center within grid. Utility function.\n",
    "        Takes:\n",
    "            center -- a single index (i.e. '3') into the 1D array of nodes\n",
    "            R_fire -- the radius of a fire in gridsize units\n",
    "            space -- the SPACE object (called ha..)\n",
    "            grid -- the RasterModelGrid object (called mg ..)\n",
    "        \"\"\"\n",
    "        centerPoint = (grid.x_of_node[center], grid.y_of_node[center]) # the center of the fire\n",
    "        mask = grid.calc_distances_of_nodes_to_point(centerPoint) < R_fire # mask of nodes in radius\n",
    "        # all nodes within R_fire of the centerPoint\n",
    "        return np.arange(mask.size)[mask] # return indices of all nodes within distance R_fire"
   ]
  },
  {
   "cell_type": "code",
   "execution_count": 72,
   "metadata": {},
   "outputs": [
    {
     "data": {
      "image/png": "[encoded data removed]",
      "text/plain": [
       "<Figure size 432x288 with 2 Axes>"
      ]
     },
     "metadata": {
      "needs_background": "light"
     },
     "output_type": "display_data"
    },
    {
     "data": {
      "image/png": "[encoded data removed]",
      "text/plain": [
       "<Figure size 432x288 with 2 Axes>"
      ]
     },
     "metadata": {
      "needs_background": "light"
     },
     "output_type": "display_data"
    },
    {
     "data": {
      "image/png": "[encoded data removed]",
      "text/plain": [
       "<Figure size 432x288 with 2 Axes>"
      ]
     },
     "metadata": {
      "needs_background": "light"
     },
     "output_type": "display_data"
    }
   ],
   "source": [
    "import numpy as np\n",
    "import matplotlib.pyplot as plt \n",
    "from landlab.components import (DepressionFinderAndRouter,\n",
    "                                FastscapeEroder,\n",
    "                                FlowAccumulator,\n",
    "                                Space)\n",
    "from landlab import (RasterModelGrid,\n",
    "                     imshow_grid)\n",
    "%matplotlib inline\n",
    "\n",
    "\n",
    "# 5x5 grid with baselevel in lower left corner\n",
    "# all other boundary nodes closed\n",
    "# init topography is plane tilted up to the upper right with noise\n",
    "\n",
    "mg = RasterModelGrid((10, 10), xy_spacing=10.0)\n",
    "_ = mg.add_zeros('topographic__elevation', at='node')\n",
    "mg.at_node['topographic__elevation'] += (mg.node_y / 10. + \n",
    "                                         mg.node_x / 10. + np.random.rand(len(mg.node_y)) / 10.)\n",
    "mg.set_closed_boundaries_at_grid_edges(bottom_is_closed=True,\n",
    "                                        left_is_closed=True,\n",
    "                                        right_is_closed=True,\n",
    "                                        top_is_closed=True)\n",
    "mg.set_watershed_boundary_condition_outlet_id(\n",
    "     0, mg.at_node['topographic__elevation'], -9999.)\n",
    "fsc_dt = 100. # timestep for fastcape eroder\n",
    "space_dt = 100. # timestep for space\n",
    "\n",
    "# show the pre-burn-in grid\n",
    "mg.imshow('node','topographic__elevation')\n",
    "plt.title('grid before burn-in')\n",
    "plt.show()\n",
    "\n",
    "#Instantiate Fastscape eroder, flow router, and depression finder\n",
    "fr = FlowAccumulator(mg, flow_director='D8')\n",
    "df = DepressionFinderAndRouter(mg)\n",
    "fsc = FastscapeEroder(\n",
    "    mg,\n",
    "    K_sp=.001,\n",
    "    m_sp=.5,\n",
    "    n_sp=1)\n",
    "\n",
    "# burn in an initial drainage ntework using the fastscape eroder\n",
    "for x in range(100):\n",
    "    fr.run_one_step()\n",
    "    df.map_depressions()\n",
    "    fsc.run_one_step(dt=fsc_dt)\n",
    "    mg.at_node['topographic__elevation'][0] -= 0.001 # Uplift\n",
    "    \n",
    "# add soil to the drainage network\n",
    "_ = mg.add_zeros('soil__depth', at='node', dtype=float) \n",
    "mg.at_node['soil__depth'] += 0.5\n",
    "mg.at_node['topographic__elevation'] += mg.at_node['soil__depth']\n",
    "\n",
    "\n",
    "# plot after burn-in grid\n",
    "mg.imshow('node','topographic__elevation')\n",
    "plt.title('grid after burn-in')\n",
    "plt.show()\n",
    "\n",
    "\n",
    "# init the space component\n",
    "K_sed0 = 0.00001 # the baseline soil erodiblity\n",
    "K_sed = np.ones(mg.shape)*Ksed0*10 # the initial soil erodibility per node NOTICE started high...\n",
    "ha = Space(\n",
    "    mg,\n",
    "    K_sed=K_sed,\n",
    "    K_br=0.00000000001,\n",
    "    F_f=0.5,\n",
    "    phi=0.1,\n",
    "    H_star=1.,\n",
    "    v_s=0.001,\n",
    "    m_sp=0.5,\n",
    "    n_sp = 1.0,\n",
    "    sp_crit_sed=0,\n",
    "    sp_crit_br=0)\n",
    "\n",
    "\n",
    "# init the erodibility stepper\n",
    "decay_time = 10*space_dt # inverse time it takes the erodibility perturbution to decay\n",
    "es = ErodibilityStepper(decay_time=decay_time, K_sed0=K_sed0)\n",
    "# this leads to decay in the erodibility from whatever value it's at.\n",
    "\n",
    "# init the burner\n",
    "burner = Burner(fire_freq=1/space_dt,\n",
    "                R_fire=30.0,\n",
    "                K_sed_boost=10*K_sed0,\n",
    "                dt=dt_space)\n",
    "\n",
    "\n",
    "# run Space component for 2000 short timesteps:\n",
    "for x in range(2000): #Space component loop\n",
    "    fr.run_one_step()\n",
    "    df.map_depressions()\n",
    "    ha.run_one_step(dt=space_dt)\n",
    "    es.stepper(ha,dt=space_dt) # decay the erodibility from the former timestep\n",
    "    burner.fire(ha,mg)\n",
    "    mg.at_node['bedrock__elevation'][0] -= 2e-6 * space_dt\n",
    "        \n",
    "# plot after iteration grid\n",
    "mg.imshow('node','topographic__elevation')\n",
    "plt.title('grid after timesteppin')\n",
    "plt.show()"
   ]
  }
 ],
 "metadata": {
  "kernelspec": {
   "display_name": "Python 3",
   "language": "python",
   "name": "python3"
  },
  "language_info": {
   "codemirror_mode": {
    "name": "ipython",
    "version": 3
   },
   "file_extension": ".py",
   "mimetype": "text/x-python",
   "name": "python",
   "nbconvert_exporter": "python",
   "pygments_lexer": "ipython3",
   "version": "3.9.4"
  }
 },
 "nbformat": 4,
 "nbformat_minor": 2
}
