{
 "cells": [
  {
   "cell_type": "markdown",
   "metadata": {},
   "source": [
    "<img src=\"files/image.jpg\">"
   ]
  },
  {
   "cell_type": "markdown",
   "metadata": {},
   "source": [
    "# *Including wildfires in a landscape evolution model*\n",
    "### --- Nishani Moragoda, Kevin Pierce, Laurent Roberge ---"
   ]
  },
  {
   "cell_type": "markdown",
   "metadata": {},
   "source": [
    "## Introduction\n",
    "\n",
    "---small blurb about wildfires---\n",
    "\n",
    "### Landscape evolution models\n",
    "### Fluvial sediment flux\n",
    "### Fires\n",
    "\n",
    "## Model information\n",
    "\n",
    "### Fastscape Eroder\n",
    "\n",
    "The **Fastscape Eroder** is an efficient fluvial incision model that uses the Braun-Willett approach to solving the stream power equation:\n",
    "\n",
    "\\begin{equation}\n",
    "\\frac{d z}{d t} = -KA^{m}S^{n} + U \n",
    "\\end{equation}\n",
    "\n",
    "Where $dz/dt$ is the rate of change of elevation, $K$ is the erodibility coefficient, $A$ is the upstream drainage area, $S$ is channel slope, and $m$ and $n$ are empirical exponents. $U$ is uplift.\n",
    "\n",
    "This stream power equation is a typical equation used to generate fluvial networks in landscape evolution models. Solving this equation for every point in the landscape generates a steadily eroding bedrock surface. Although this equation is efficient to compute, it does not allow for deposition of sediment, which means that all sediment eroded from the landscape is immediately transported through the watershed outlet.\n",
    "\n",
    "More details about the **Fastscape Eroder** component in Landlab can be found here:  \n",
    "\n",
    "https://landlab.readthedocs.io/en/master/reference/components/stream_power.html \n",
    "\n",
    "And Braun & Willett’s 2013 paper is here: \n",
    "\n",
    "Braun, J., Willett, S. (2013). A very efficient O(n), implicit and parallel method to solve the stream power equation governing fluvial incision and landscape evolution. Geomorphology 180-181(C), 170-179. https://dx.doi.org/10.1016/j.geomorph.2012.10.008 \n",
    "\n",
    "### SPACE (Stream Power with Alluvium Conservation and Entrainment): \n",
    "\n",
    "The **SPACE** component is another model that simulates fluvial processes. In contrast with the **Fastscape Eroder** it not only tracks erosion of bedrock, but also entrainment and deposition of sediment on top of the bedrock. The downside is that it takes much longer to solve the more complicated algorithm. Because of this, we will first run the **Fastscape Eroder** to imprint a fluvial network into the grid and then we will switch over to the **SPACE** model to track sediment fluxes as fires affect the landscape. \n",
    "\n",
    "More details about the **SPACE** component in Landlab can be found here:  \n",
    "\n",
    "https://landlab.readthedocs.io/en/master/reference/components/space.html \n",
    "\n",
    "And the Shobe et al. (2017) paper is here: \n",
    "\n",
    "Shobe, C. M., Tucker, G. E., and Barnhart, K. R.: The SPACE 1.0 model: a Landlab component for 2-D calculation of sediment transport, bedrock erosion, and landscape evolution, Geosci. Model Dev., 10, 4577-4604, https://doi.org/10.5194/gmd-10-4577-2017, 2017. \n",
    "\n",
    "### Other components \n",
    "\n",
    "We also need the **FlowAccumulator** and **DepressionFinderAndRouter** components. These calculate the routing of flow across the grid and deal depressions/lakes in the landscape. More info can be found here:  \n",
    "\n",
    "https://landlab.readthedocs.io/en/master/reference/components/flow_accum.html \n",
    "\n",
    "https://landlab.readthedocs.io/en/master/reference/components/flow_routing.html \n",
    "\n",
    "Finally, we have added two modules that are not Landlab components: \n",
    "\n",
    "The **Burner** generates stochastic wildfires that burn parts of the landscape and the **Erodibility Stepper** changes the soil erodibility a fire has occurred. These will be described in more detail when they show up in the notebook. "
   ]
  },
  {
   "cell_type": "markdown",
   "metadata": {},
   "source": [
    "### Import statements\n",
    "\n",
    "First, we import the necessary libraries and components. "
   ]
  },
  {
   "cell_type": "code",
   "execution_count": 1,
   "metadata": {},
   "outputs": [],
   "source": [
    "import os\n",
    "import time\n",
    "#import imageio\n",
    "import numpy as np\n",
    "import matplotlib.pyplot as plt \n",
    "from firemodel import *\n",
    "from create_network import create_network_from_raster\n",
    "#from landlab.io.netcdf import (write_netcdf, load_netcdf)\n",
    "from landlab import (RasterModelGrid, imshow_grid)\n",
    "from landlab.plot import graph\n",
    "from landlab.components import (DepressionFinderAndRouter,\n",
    "                                FastscapeEroder,\n",
    "                                FlowAccumulator,\n",
    "                                Space,\n",
    "                                ChannelProfiler)\n",
    "%matplotlib inline"
   ]
  },
  {
   "cell_type": "markdown",
   "metadata": {},
   "source": [
    "### Set some parameters\n",
    "\n",
    "Here, we set the parameters we'll need for the rest of the lab.\n",
    "\n",
    "There will be an opportunity to change the burn frequency and explore its effects later."
   ]
  },
  {
   "cell_type": "code",
   "execution_count": 2,
   "metadata": {},
   "outputs": [],
   "source": [
    "# Saving outputs\n",
    "save=True             # save outputs to a directory or not? \n",
    "save_dir = './simul/' # directory in which to save outputs\n",
    "\n",
    "# Global parameters\n",
    "dt = 50               # timestep in years\n",
    "runtime = 100000      # length of the simulation in years\n",
    "# U = ???             # Uplift rate\n",
    "\n",
    "# Grid parameters\n",
    "dx = 100              # distance between each node (m) \n",
    "np.random.seed(5000)  # reproducible random seed to add initial topographic roughness\n",
    "grid_dim = (50,50)    # number of nodes along each axis (x,y)\n",
    "\n",
    "# Fastscape Eroder parameters\n",
    "K_sp=0.001            # erodibility coefficient\n",
    "m_sp=0.5              # Drainage area exponent\n",
    "n_sp=1                # Slope exponent\n",
    "\n",
    "# SPACE parameters (we will use the same K, m, and n as above)\n",
    "K_sed0 = 0.00005      # Baseline soil erodiblity\n",
    "K_br=1e-10            # Bedrock erodibility coefficient\n",
    "F_f=0.5               # The fraction of fine sediment that becomes suspended as washload\n",
    "phi=0.1               # Sediment porosity\n",
    "H_star=1.             # Bedrock roughness scale\n",
    "v_s=0.001             # Settling length scale for entrained sediment to travel before depositing\n",
    "sp_crit_sed=0         # Critical stream power threshold required to entrain sediment\n",
    "sp_crit_br=0          # Critical stream power threshold required to erode bedrock\n",
    "\n",
    "# Erodibility stepper\n",
    "decay_time = dt*3     # time it takes the erodibility perturbution to decay\n",
    "\n",
    "# Burner\n",
    "R_fire_mean = grid_dim[0]/10*dx   # Mean fire radius\n",
    "fire_freq = 1/(7*dt)              # Fire frequency\n",
    "K_sed_boost = 20*K_sed0           # The increase in soil erodibility due to fire"
   ]
  },
  {
   "cell_type": "markdown",
   "metadata": {},
   "source": [
    "### Instantiate the model grid\n",
    "Here , we instantiate a 50x50 node model grid (5000x5000 m). The bottom left corner is the watershed outlet, so we set it to an open boundary condition to allow flux out. All other boundary nodes are closed. The initial topography is tilted downwards from the upper right towards the outlet and has random roughness to make it look more natural."
   ]
  },
  {
   "cell_type": "code",
   "execution_count": 3,
   "metadata": {},
   "outputs": [
    {
     "name": "stderr",
     "output_type": "stream",
     "text": [
      "/opt/tljh/user/envs/LLTB_clinic/lib/python3.9/site-packages/landlab/plot/imshow.py:267: MatplotlibDeprecationWarning: You are modifying the state of a globally registered colormap. This has been deprecated since 3.3 and in 3.6, you will not be able to modify a registered colormap in-place. To remove this warning, you can make a copy of the colormap first. cmap = mpl.cm.get_cmap(\"pink\").copy()\n",
      "  cmap.set_bad(color=color_for_closed)\n",
      "/opt/tljh/user/envs/LLTB_clinic/lib/python3.9/site-packages/landlab/plot/imshow.py:307: MatplotlibDeprecationWarning: The 'norm' parameter to Colorbar has no effect because it is overridden by the mappable; it is deprecated since 3.3 and will be removed two minor releases later.\n",
      "  cb = plt.colorbar(norm=norm, shrink=shrink)\n"
     ]
    },
    {
     "data": {
      "image/png": "[encoded data removed]",
      "text/plain": [
       "<Figure size 432x288 with 2 Axes>"
      ]
     },
     "metadata": {
      "needs_background": "light"
     },
     "output_type": "display_data"
    }
   ],
   "source": [
    "# Instantiate the raster model grid\n",
    "mg = RasterModelGrid(grid_dim, xy_spacing=dx)\n",
    "_ = mg.add_zeros('topographic__elevation', at='node')\n",
    "\n",
    "# Add tilt and seeded random noise to the topography\n",
    "mg.at_node['topographic__elevation'] += (mg.node_y / 10000. + \n",
    "                                         mg.node_x / 10000. + np.random.rand(len(mg.node_y)) / 10.)\n",
    "\n",
    "# Set the boundary conditions\n",
    "mg.set_closed_boundaries_at_grid_edges(bottom_is_closed=True,\n",
    "                                        left_is_closed=True,\n",
    "                                        right_is_closed=True,\n",
    "                                        top_is_closed=True)\n",
    "mg.set_watershed_boundary_condition_outlet_id(\n",
    "     0, mg.at_node['topographic__elevation'], -9999.)\n",
    "\n",
    "# Plot the initial topographic conditions\n",
    "mg.imshow('node','topographic__elevation')\n",
    "plt.title('grid before burn-in')\n",
    "plt.show()"
   ]
  },
  {
   "cell_type": "markdown",
   "metadata": {},
   "source": [
    "### Instantiate the model components for imprinting the initial landscape\n",
    "\n",
    "Here we instantiate the **Fastscape Eroder**, **Flow Router**, and **Depression Finder**. "
   ]
  },
  {
   "cell_type": "code",
   "execution_count": 4,
   "metadata": {},
   "outputs": [],
   "source": [
    "#Instantiate the fastscape eroder, flow router, and depression finder\n",
    "fr = FlowAccumulator(mg, flow_director='D8')\n",
    "df = DepressionFinderAndRouter(mg)\n",
    "fsc = FastscapeEroder(\n",
    "    mg,\n",
    "    K_sp=K_sp,\n",
    "    m_sp=m_sp,\n",
    "    n_sp=n_sp)"
   ]
  },
  {
   "cell_type": "markdown",
   "metadata": {},
   "source": [
    "### Imprint an initial drainage network\n",
    "We use the **Fastscape eroder** to \"burn in\" (no pun intended...) an initial drainage network since the algorithm is much faster than **SPACE**. We iterate the **Fastscape eroder** through a time loop to evolve the landscape to a steady state before adding soil to set up the conditions for the **SPACE** model."
   ]
  },
  {
   "cell_type": "code",
   "execution_count": 5,
   "metadata": {},
   "outputs": [
    {
     "data": {
      "image/png": "[encoded data removed]",
      "text/plain": [
       "<Figure size 432x288 with 2 Axes>"
      ]
     },
     "metadata": {
      "needs_background": "light"
     },
     "output_type": "display_data"
    }
   ],
   "source": [
    "# Time loop running the fastscape eroder\n",
    "for it in range(10000):\n",
    "    fr.run_one_step()\n",
    "    df.map_depressions()\n",
    "    fsc.run_one_step(dt=dt)\n",
    "    mg.at_node['topographic__elevation'][0] -= 0.002 # Uplift\n",
    "    \n",
    "# Add soil to the drainage network (for SPACE)\n",
    "_ = mg.add_zeros('soil__depth', at='node', dtype=float) \n",
    "mg.at_node['soil__depth'] += 0.5\n",
    "mg.at_node['topographic__elevation'] += mg.at_node['soil__depth']\n",
    "\n",
    "# Plot the burned in topographic conditions\n",
    "mg.imshow('node','topographic__elevation')\n",
    "plt.title('grid after burn-in')\n",
    "plt.show()"
   ]
  },
  {
   "cell_type": "markdown",
   "metadata": {},
   "source": [
    "### Plot sediment flux at the outlet\n",
    "At steady state, the rate of erosion throughout the landscape matches the rate of uplift and therefore the sediment flux at the outlet of the watershed is stable through time. Note how sediment flux increased early on when the landscape was adjusting and has since become steady. "
   ]
  },
  {
   "cell_type": "code",
   "execution_count": 6,
   "metadata": {},
   "outputs": [],
   "source": [
    "### Add sediment flux plot here"
   ]
  },
  {
   "cell_type": "markdown",
   "metadata": {},
   "source": [
    "### Instantiate the components for exploring the effects of fire\n",
    "Here, we instantiate **SPACE**, **Erodibility Stepper**, and **Burner**. We also add a layer of soil to the grid. Remember that the **Fastscape Eroder** acts only on bedrock, but **SPACE** acts on sediment as well. The **Burner** will generate a fire, then the **Erodibility Stepper** will increase the erodibility of the soil in the burned area and slowly return the erodibility back to “normal”.  "
   ]
  },
  {
   "cell_type": "code",
   "execution_count": 7,
   "metadata": {},
   "outputs": [],
   "source": [
    "# Instantiate the SPACE component\n",
    "K_sed = np.ones(mg.shape)*K_sed0 # the initial soil erodibility per node\n",
    "ha = Space(\n",
    "    mg,\n",
    "    K_sed=K_sed,\n",
    "    K_br=K_br,\n",
    "    F_f=F_f,\n",
    "    phi=phi,\n",
    "    H_star=H_star,\n",
    "    v_s=v_s,\n",
    "    m_sp=m_sp,\n",
    "    n_sp = n_sp,\n",
    "    sp_crit_sed=sp_crit_sed,\n",
    "    sp_crit_br=sp_crit_br)\n",
    "\n",
    "# Instantiate the erodibility stepper\n",
    "es = ErodibilityStepper(decay_time=decay_time, K_sed0=K_sed0)\n",
    "\n",
    "# Instantiate the burner\n",
    "burner = Burner(fire_freq=fire_freq,\n",
    "                R_fire_mean=R_fire_mean,\n",
    "                K_sed_boost=K_sed_boost,\n",
    "                dt=dt)"
   ]
  },
  {
   "cell_type": "markdown",
   "metadata": {},
   "source": [
    "### Run the landscape evolution model\n",
    "Here, we iterate the three newly instantiated models through a time loop. This time around, since the erodibility is changing through time due to fires, what do you think the sediment flux timeseries will look like? "
   ]
  },
  {
   "cell_type": "code",
   "execution_count": 8,
   "metadata": {},
   "outputs": [
    {
     "name": "stdout",
     "output_type": "stream",
     "text": [
      "fire at (3500.0,1900.0) with 45 nodes inflamed\n",
      "-- 0 years -- 0.6 seconds --\n"
     ]
    },
    {
     "ename": "NameError",
     "evalue": "name 'write_netcdf' is not defined",
     "output_type": "error",
     "traceback": [
      "\u001b[0;31m---------------------------------------------------------------------------\u001b[0m",
      "\u001b[0;31mNameError\u001b[0m                                 Traceback (most recent call last)",
      "\u001b[0;32m<ipython-input-8-d320f610c529>\u001b[0m in \u001b[0;36m<module>\u001b[0;34m\u001b[0m\n\u001b[1;32m     14\u001b[0m         \u001b[0mfilename_npy\u001b[0m \u001b[0;34m=\u001b[0m \u001b[0msave_dir\u001b[0m \u001b[0;34m+\u001b[0m \u001b[0;34m'simul_%05d'\u001b[0m\u001b[0;34m%\u001b[0m\u001b[0mit\u001b[0m\u001b[0;34m\u001b[0m\u001b[0;34m\u001b[0m\u001b[0m\n\u001b[1;32m     15\u001b[0m         \u001b[0;31m#mg.(filename, names='topographic__elevation')\u001b[0m\u001b[0;34m\u001b[0m\u001b[0;34m\u001b[0m\u001b[0;34m\u001b[0m\u001b[0m\n\u001b[0;32m---> 16\u001b[0;31m         \u001b[0mwrite_netcdf\u001b[0m\u001b[0;34m(\u001b[0m\u001b[0mfilename\u001b[0m\u001b[0;34m,\u001b[0m \u001b[0mmg\u001b[0m\u001b[0;34m,\u001b[0m \u001b[0mformat\u001b[0m\u001b[0;34m=\u001b[0m\u001b[0;34m\"NETCDF3_64BIT\"\u001b[0m\u001b[0;34m,\u001b[0m \u001b[0mnames\u001b[0m\u001b[0;34m=\u001b[0m\u001b[0;34m[\u001b[0m\u001b[0;34m\"topographic__elevation\"\u001b[0m\u001b[0;34m,\u001b[0m\u001b[0;34m\"sediment__flux\"\u001b[0m\u001b[0;34m]\u001b[0m\u001b[0;34m)\u001b[0m\u001b[0;34m\u001b[0m\u001b[0;34m\u001b[0m\u001b[0m\n\u001b[0m\u001b[1;32m     17\u001b[0m         \u001b[0mnp\u001b[0m\u001b[0;34m.\u001b[0m\u001b[0msave\u001b[0m\u001b[0;34m(\u001b[0m\u001b[0mfilename_npy\u001b[0m\u001b[0;34m,\u001b[0m \u001b[0mK_sed\u001b[0m\u001b[0;34m)\u001b[0m\u001b[0;34m\u001b[0m\u001b[0;34m\u001b[0m\u001b[0m\n",
      "\u001b[0;31mNameError\u001b[0m: name 'write_netcdf' is not defined"
     ]
    }
   ],
   "source": [
    "start_time = time.time()\n",
    "\n",
    "for it in range(runtime//dt):\n",
    "    fr.run_one_step()           # accumulate the flow\n",
    "    df.map_depressions()        # find landscape depressions (which do not erode)\n",
    "    ha.run_one_step(dt=dt)      # step the transport model\n",
    "    es.stepper(ha,dt=dt)        # decay the erodibility back to baseline from the former timestep\n",
    "    burner.fire(ha,mg)          # light any fires (increase erodibility)\n",
    "    mg.at_node['bedrock__elevation'][0] -= 3e-6*dt # add in the uplift\n",
    "    if it*dt % 1000 == 0:\n",
    "        print(\"--\", it*dt, \"years -- %s seconds --\" % round((time.time() - start_time), 1))\n",
    "    if (it*dt % 100 == 0) & save: # save every 100 years\n",
    "        filename = save_dir + 'simul_%05d.nc'%it\n",
    "        filename_npy = save_dir + 'simul_%05d'%it\n",
    "        #mg.(filename, names='topographic__elevation')\n",
    "        write_netcdf(filename, mg, format=\"NETCDF3_64BIT\", names=[\"topographic__elevation\",\"sediment__flux\"])\n",
    "        np.save(filename_npy, K_sed)"
   ]
  },
  {
   "cell_type": "markdown",
   "metadata": {},
   "source": [
    "### Visualizations"
   ]
  },
  {
   "cell_type": "code",
   "execution_count": null,
   "metadata": {},
   "outputs": [],
   "source": [
    "# Topography after evolving the landscape\n",
    "mg.imshow('node','topographic__elevation')\n",
    "plt.title('grid after timestepping')\n",
    "plt.show()"
   ]
  },
  {
   "cell_type": "code",
   "execution_count": null,
   "metadata": {},
   "outputs": [],
   "source": [
    "# Map of sediment flux\n",
    "fig = plt.figure()\n",
    "plot = plt.subplot()\n",
    "imshow_grid(mg, 'sediment__flux', plot_name='Sediment flux', var_name = 'Sediment flux', var_units=r'm$^3$/yr', grid_units=('m', 'm'), cmap='Blues')\n",
    "plt.show()"
   ]
  },
  {
   "cell_type": "markdown",
   "metadata": {},
   "source": [
    "### Output a NetworkModelGrid"
   ]
  },
  {
   "cell_type": "code",
   "execution_count": null,
   "metadata": {},
   "outputs": [],
   "source": [
    "nmg = create_network_from_raster(\n",
    "    mg,\n",
    "    method='variable', # method\n",
    "    n_widths=dx,\n",
    "    #node_spacing=30,\n",
    "    #d_node_spacing=2*dx,\n",
    "    min_channel_thresh=30000,\n",
    "    fields=['drainage_area', 'topographic__elevation'])\n",
    "\n",
    "## Plot nodes\n",
    "plt.figure(figsize=(18,5))\n",
    "plt.subplot(1,2,1)\n",
    "graph.plot_nodes(nmg)\n",
    "plt.title(\"Nodes\")\n",
    "\n",
    "## Plot nodes + links\n",
    "plt.subplot(1,2,2)\n",
    "graph.plot_nodes(nmg,with_id=False,markersize=4)\n",
    "graph.plot_links(nmg)\n",
    "plt.title(\"Links\")\n",
    "plt.show()"
   ]
  },
  {
   "cell_type": "markdown",
   "metadata": {},
   "source": [
    "### Define a plotting function"
   ]
  },
  {
   "cell_type": "code",
   "execution_count": null,
   "metadata": {},
   "outputs": [],
   "source": [
    "def plotter(grid,K_sed):\n",
    "    pinks = plt.get_cmap('pink') # pink colormap\n",
    "    greys = plt.get_cmap('gist_gray')#plt.get_cmap('gist_gray') # grey colormap\n",
    "    def cm_black(arr):\n",
    "        return np.array([0,0,0,0.5]).astype('float')*np.ones_like(arr)[:,np.newaxis]\n",
    "    #greys = cm_black\n",
    "    # set up a blank image... \n",
    "    im = np.zeros(shape=(grid_dim[0],grid_dim[1],4))\n",
    "\n",
    "    # get the elevations from the grid\n",
    "    z = mg.at_node['topographic__elevation']\n",
    "    zs = (z-z.min())/(z.max()-z.min())\n",
    "    # determine \"burned\" locations in the image\n",
    "    tol = K_sed0*1.5 # tolerance for \"burned\"\n",
    "    mask = (K_sed > tol).flatten() # mask of places \"burned\"\n",
    "\n",
    "    # get colors for burned locations\n",
    "    #a = 0.9 #\n",
    "    a = ((((K_sed-K_sed0)/K_sed_boost)).flatten())[mask][:,np.newaxis]\n",
    "    a = (a+1)/2\n",
    "    bvals = greys(zs[mask])*a + pinks(zs[mask])*(1-a)\n",
    "\n",
    "    # get colors for not burned locations\n",
    "    vals = pinks(zs[~mask])\n",
    "\n",
    "    # fill in values within the image..\n",
    "    smask = np.stack((mask.reshape(grid_dim[0],grid_dim[1]),)*4,-1)\n",
    "    im[smask] = bvals.flatten()\n",
    "    im[~smask] = vals.flatten()\n",
    "\n",
    "    # fill in all edge nodes..\n",
    "    def edge_mask(x):\n",
    "        # https://stackoverflow.com/questions/48097068/how-to-get-boundaries-of-an-numpy-array\n",
    "        mask = np.ones(x.shape, dtype=bool)\n",
    "        mask[x.ndim * (slice(1, -1),)] = False\n",
    "        return mask\n",
    "    edge = edge_mask(im[:,:,0])\n",
    "    im[edge]=np.array([0,0,0,1])\n",
    "    \n",
    "    # plot the image..\n",
    "    x = np.linspace(0,dx*grid_dim[0],dx)\n",
    "    y = np.linspace(0,dx*grid_dim[1],dx)\n",
    "    #x,y = np.meshgrid(x,y)\n",
    "    plt.imshow(im,extent=[x.min(),x.max(),y.min(),y.max()],origin='lower')\n",
    "    \n",
    "    graph.plot_links(nmg,with_id=False)"
   ]
  },
  {
   "cell_type": "markdown",
   "metadata": {},
   "source": [
    "### Plot showing burned areas"
   ]
  },
  {
   "cell_type": "code",
   "execution_count": null,
   "metadata": {},
   "outputs": [],
   "source": [
    "plotter(mg,K_sed)"
   ]
  },
  {
   "cell_type": "code",
   "execution_count": null,
   "metadata": {},
   "outputs": [],
   "source": [
    "base = './simul/'\n",
    "save = './imgs/'\n",
    "files = sorted(os.listdir(base))\n",
    "ks_files = [f for f in files if f[-3:] == 'npy']\n",
    "mg_files = [f for f in files if f[-2:] == 'nc']\n",
    "for f1,f2 in zip(ks_files,mg_files):\n",
    "    f1p=base+f1\n",
    "    f2=base+f2\n",
    "    K_sed = np.load(f1p)\n",
    "    mg = read_netcdf(f2)\n",
    "    \n",
    "    nmg = create_network_from_raster(\n",
    "                                    mg,\n",
    "                                    method='variable',\n",
    "                                    n_widths=dx,\n",
    "                                    min_channel_thresh=30000,\n",
    "                                    fields=['drainage_area', 'topographic__elevation']\n",
    "                                    )\n",
    "    plotter(mg,K_sed)\n",
    "    fig = plt.gcf()\n",
    "    fig.set_size_inches(8,8)\n",
    "    savename = save + f1[:-3]+'png'\n",
    "    fig.patch.set_facecolor('white')\n",
    "    # add in timestamp\n",
    "    #plt.text(,,'t = {}'.format(round()))\n",
    "##################################### add in the text with the time\n",
    "    t = int(f1.split('.')[0].split('_')[1])*dt\n",
    "    plt.title('{} yr'.format(t),fontsize=20)\n",
    "    plt.savefig(savename, dpi=100)\n",
    "    plt.show()\n",
    "    "
   ]
  },
  {
   "cell_type": "code",
   "execution_count": null,
   "metadata": {},
   "outputs": [],
   "source": [
    "# Map of topographic elevation and the fluvial network\n",
    "mg.imshow('node','topographic__elevation')\n",
    "graph.plot_links(nmg,with_id=False)\n",
    "fig = plt.gcf()\n",
    "fig.set_size_inches(14, 10)\n",
    "plt.show()"
   ]
  },
  {
   "cell_type": "markdown",
   "metadata": {},
   "source": [
    "### Plot a timeseries of sediment flux at the watershed outlet"
   ]
  },
  {
   "cell_type": "code",
   "execution_count": null,
   "metadata": {},
   "outputs": [],
   "source": [
    "# Sediment flux plot\n",
    "base = './simul/'\n",
    "save = './imgs/'\n",
    "files = sorted(os.listdir(base))\n",
    "mg_files = [f for f in files if f[-2:] == 'nc']\n",
    "fluxSeries = []\n",
    "T = []\n",
    "for f in mg_files:\n",
    "    mg = read_netcdf(base+f)\n",
    "    t = int(f.split('.')[0].split('_')[1])*dt\n",
    "    flux = mg.at_node['sediment__flux']\n",
    "    fluxSeries.append(flux.max())\n",
    "    T.append(t)\n",
    "T = np.array(T)\n",
    "\n",
    "plt.plot(T/1000,fluxSeries,color='black')\n",
    "plt.xlabel('time [kyr]',fontsize=15)\n",
    "plt.ylabel('Yield at outlet [$m^3$/yr]',fontsize=15)\n",
    "plt.title('Sediment yield variations due to wildfire', fontsize=15)\n",
    "fig = plt.gcf()\n",
    "fig.set_size_inches(10,6)\n",
    "fig.patch.set_facecolor('white')\n",
    "\n",
    "plt.savefig('fireFlux.png')"
   ]
  },
  {
   "cell_type": "markdown",
   "metadata": {},
   "source": [
    "### Make a gif to show the landscape over time"
   ]
  },
  {
   "cell_type": "code",
   "execution_count": null,
   "metadata": {
    "scrolled": true
   },
   "outputs": [],
   "source": [
    "# Make gif\n",
    "save = './imgs/'\n",
    "files = sorted(os.listdir(save))\n",
    "\n",
    "with imageio.get_writer('movie.mp4', mode='I',fps=12) as writer:\n",
    "    for f in files:\n",
    "        #print(f)\n",
    "        im = imageio.imread(save+f)\n",
    "        writer.append_data(im)"
   ]
  }
 ],
 "metadata": {
  "kernelspec": {
   "display_name": "LLTB",
   "language": "python",
   "name": "lltb_clinic"
  },
  "language_info": {
   "codemirror_mode": {
    "name": "ipython",
    "version": 3
   },
   "file_extension": ".py",
   "mimetype": "text/x-python",
   "name": "python",
   "nbconvert_exporter": "python",
   "pygments_lexer": "ipython3",
   "version": "3.9.4"
  }
 },
 "nbformat": 4,
 "nbformat_minor": 5
}
