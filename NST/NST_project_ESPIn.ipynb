{
 "cells": [
  {
   "cell_type": "markdown",
   "id": "3bb846ac",
   "metadata": {},
   "source": [
    "# Creating sediment input into Landlab NetworkSedimentTransporter component"
   ]
  },
  {
   "cell_type": "markdown",
   "id": "5fb9bf38",
   "metadata": {},
   "source": [
    "#### This lab was created by graduate students as part of the 2021 CSDMS ESPIn (Earth Surface Processes Institute).**\n",
    "\n",
    "#### Creators\n",
    "Marius - \n",
    "Mel Guirro - Durham University\n",
    "Muneer - \n",
    "Se Jong - \n",
    "\n",
    "\n",
    "For more Landlab tutorials, click here: https://landlab.readthedocs.io/en/latest/user_guide/tutorials.html\n"
   ]
  },
  {
   "cell_type": "markdown",
   "id": "412d7208",
   "metadata": {},
   "source": [
    "## Notebook Overview\n",
    "\n",
    "This notebook will...\n",
    "\n",
    "### Learning Objectives\n",
    "Topical learning objectives:\n",
    "1. Fluvial sediment processes through  river network\n",
    "\n",
    "### Landlab Components used"
   ]
  },
  {
   "cell_type": "markdown",
   "id": "e74c58e0",
   "metadata": {},
   "source": [
    "## Conceptual Model\n",
    "\n",
    "Add here framework"
   ]
  },
  {
   "cell_type": "markdown",
   "id": "b57a59e2",
   "metadata": {},
   "source": [
    "## Load the necessary packages"
   ]
  },
  {
   "cell_type": "code",
   "execution_count": null,
   "id": "1c4b5ac1",
   "metadata": {},
   "outputs": [],
   "source": [
    "import warnings\n",
    "warnings.filterwarnings('ignore')\n",
    "\n",
    "import matplotlib.pyplot as plt\n",
    "import numpy as np\n",
    "from landlab.components import FlowDirectorSteepest, NetworkSedimentTransporter\n",
    "from landlab.data_record import DataRecord\n",
    "from landlab.grid.network import NetworkModelGrid\n",
    "from landlab.plot import graph\n",
    "from landlab.plot import plot_network_and_parcels\n",
    "\n",
    "%matplotlib inline"
   ]
  },
  {
   "cell_type": "markdown",
   "id": "9a7c9869",
   "metadata": {},
   "source": [
    "## Create the river network model grid"
   ]
  },
  {
   "cell_type": "code",
   "execution_count": null,
   "id": "cc389a43",
   "metadata": {},
   "outputs": [],
   "source": [
    "# Create and plot"
   ]
  },
  {
   "cell_type": "markdown",
   "id": "54e58387",
   "metadata": {},
   "source": [
    "## Create sediment 'parcels' in a DataRecord"
   ]
  },
  {
   "cell_type": "code",
   "execution_count": null,
   "id": "6d9ee20c",
   "metadata": {},
   "outputs": [],
   "source": []
  },
  {
   "cell_type": "markdown",
   "id": "dbd345e9",
   "metadata": {},
   "source": [
    "## Run the Network Sediment Transporter"
   ]
  },
  {
   "cell_type": "code",
   "execution_count": null,
   "id": "f366ff3e",
   "metadata": {},
   "outputs": [],
   "source": []
  },
  {
   "cell_type": "markdown",
   "id": "57015e7d",
   "metadata": {},
   "source": [
    "## Plot the model results"
   ]
  },
  {
   "cell_type": "code",
   "execution_count": null,
   "id": "e9d5f2e5",
   "metadata": {},
   "outputs": [],
   "source": []
  },
  {
   "cell_type": "markdown",
   "id": "9f37fc18",
   "metadata": {},
   "source": [
    "## Run it again changing parameters"
   ]
  },
  {
   "cell_type": "code",
   "execution_count": null,
   "id": "1f17b9fb",
   "metadata": {},
   "outputs": [],
   "source": []
  }
 ],
 "metadata": {
  "kernelspec": {
   "display_name": "Python 3",
   "language": "python",
   "name": "python3"
  },
  "language_info": {
   "codemirror_mode": {
    "name": "ipython",
    "version": 3
   },
   "file_extension": ".py",
   "mimetype": "text/x-python",
   "name": "python",
   "nbconvert_exporter": "python",
   "pygments_lexer": "ipython3",
   "version": "3.9.4"
  }
 },
 "nbformat": 4,
 "nbformat_minor": 5
}
